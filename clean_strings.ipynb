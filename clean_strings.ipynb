{
 "cells": [
  {
   "cell_type": "code",
   "execution_count": null,
   "id": "d71828b2",
   "metadata": {},
   "outputs": [
    {
     "name": "stdout",
     "output_type": "stream",
     "text": [
      "0         bob\n",
      "1        dana\n",
      "2         eve\n",
      "3       alice\n",
      "4         bob\n",
      "5        dana\n",
      "6     charlie\n",
      "7       alice\n",
      "8       frank\n",
      "9         bob\n",
      "10        eve\n",
      "11       dana\n",
      "12        eve\n",
      "13    charlie\n",
      "14        eve\n",
      "15        bob\n",
      "16        eve\n",
      "17      frank\n",
      "18        eve\n",
      "19        eve\n",
      "20        bob\n",
      "21    charlie\n",
      "22    charlie\n",
      "23        eve\n",
      "24       dana\n",
      "25    charlie\n",
      "26      alice\n",
      "27        eve\n",
      "28       dana\n",
      "29      frank\n",
      "30    charlie\n",
      "31      alice\n",
      "32        bob\n",
      "33      frank\n",
      "34      alice\n",
      "35        bob\n",
      "36    charlie\n",
      "37        eve\n",
      "38    charlie\n",
      "39    charlie\n",
      "40       dana\n",
      "41       dana\n",
      "42       dana\n",
      "43    charlie\n",
      "44    charlie\n",
      "45        bob\n",
      "46        bob\n",
      "47        eve\n",
      "48    charlie\n",
      "49       dana\n",
      "Name: clean, dtype: object\n",
      "50\n"
     ]
    }
   ],
   "source": [
    "import string\n",
    "import pandas as pd\n",
    "df_new = pd.read_csv(\"/Users/Mihir/lab-3-data-parsing/Data/messy_strings.csv\")\n",
    "df_new['clean'] = None\n",
    "def clean(strings):\n",
    "    strings = strings.dropna()\n",
    "    strings = strings.str.strip()\n",
    "    strings = strings.str.lower()\n",
    "    for letter in string.punctuation:\n",
    "        strings = strings.str.replace(letter, \"\")\n",
    "    return strings\n",
    "\n",
    "df_new['clean'] = clean(df_new['raw'])\n",
    "print(df_new['clean'])\n",
    "print(len(df_new))\n",
    "\n",
    "\n"
   ]
  },
  {
   "cell_type": "markdown",
   "id": "f05975e9",
   "metadata": {},
   "source": []
  }
 ],
 "metadata": {
  "kernelspec": {
   "display_name": "lab_3",
   "language": "python",
   "name": "python3"
  },
  "language_info": {
   "codemirror_mode": {
    "name": "ipython",
    "version": 3
   },
   "file_extension": ".py",
   "mimetype": "text/x-python",
   "name": "python",
   "nbconvert_exporter": "python",
   "pygments_lexer": "ipython3",
   "version": "3.13.5"
  }
 },
 "nbformat": 4,
 "nbformat_minor": 5
}
